{
 "cells": [
  {
   "cell_type": "markdown",
   "id": "8d2f1b91",
   "metadata": {},
   "source": [
    "# A simple OCR(Optical character recognition) model using ResNet framework\n",
    "\n",
    "\n",
    "<span style=\"text-decoration: underline; font-size: 18px;\">The main objective of this project is to identify the handwritten english characters and obtain text output.</span>\n",
    "\n"
   ]
  },
  {
   "cell_type": "markdown",
   "id": "b5873d33",
   "metadata": {},
   "source": [
    "### 1. Getting the modules imported."
   ]
  },
  {
   "cell_type": "code",
   "execution_count": 1,
   "id": "1a8fd773",
   "metadata": {},
   "outputs": [
    {
     "name": "stdout",
     "output_type": "stream",
     "text": [
      "WARNING:tensorflow:From D:\\.idea\\anaconda\\Lib\\site-packages\\keras\\src\\losses.py:2976: The name tf.losses.sparse_softmax_cross_entropy is deprecated. Please use tf.compat.v1.losses.sparse_softmax_cross_entropy instead.\n",
      "\n"
     ]
    }
   ],
   "source": [
    "from tensorflow.keras.preprocessing.image import ImageDataGenerator\n",
    "from tensorflow.keras.applications import ResNet50\n",
    "from tensorflow.keras import layers, models\n",
    "import os\n",
    "from tensorflow.keras.preprocessing.image import load_img, img_to_array\n",
    "from tensorflow.keras.applications.resnet50 import preprocess_input\n",
    "import numpy as np\n",
    "import matplotlib.pyplot as plt\n",
    "from tensorflow.keras.preprocessing.image import array_to_img"
   ]
  },
  {
   "cell_type": "markdown",
   "id": "4bef358d",
   "metadata": {},
   "source": [
    "### 2. Defining a function to load and preprocess images."
   ]
  },
  {
   "cell_type": "code",
   "execution_count": 2,
   "id": "a283b09d",
   "metadata": {},
   "outputs": [],
   "source": [
    "def load_and_preprocess_image(image_path):\n",
    "    img = load_img(image_path, target_size=(224, 224))\n",
    "    \n",
    "    img_array = img_to_array(img)\n",
    "    \n",
    "    img_array = np.expand_dims(img_array, axis=0)\n",
    "    img_array = preprocess_input(img_array)\n",
    "    \n",
    "    return img_array"
   ]
  },
  {
   "cell_type": "markdown",
   "id": "7b063983",
   "metadata": {},
   "source": [
    "### 3. Defining the path of dataset for future usage."
   ]
  },
  {
   "cell_type": "code",
   "execution_count": 3,
   "id": "d4faa859",
   "metadata": {},
   "outputs": [],
   "source": [
    "base_path = r\"C:\\Users\\Lenovo\\OneDrive\\Desktop\\dataset\\captcha\\Img\""
   ]
  },
  {
   "cell_type": "markdown",
   "id": "bffe6fb5",
   "metadata": {},
   "source": [
    "### 4. Instantiating a class for training data augmentation."
   ]
  },
  {
   "cell_type": "code",
   "execution_count": 4,
   "id": "0f374b4e",
   "metadata": {},
   "outputs": [],
   "source": [
    "train_datagen = ImageDataGenerator(\n",
    "    rescale=1./255,\n",
    "    rotation_range=20,\n",
    "    width_shift_range=0.2,\n",
    "    height_shift_range=0.2,\n",
    "    shear_range=0.2,\n",
    "    zoom_range=0.2,\n",
    "    horizontal_flip=True,\n",
    "    fill_mode='nearest'\n",
    ")"
   ]
  },
  {
   "cell_type": "markdown",
   "id": "875448cd",
   "metadata": {},
   "source": [
    "### 5. Instantiating a class for validation data with no augmentation."
   ]
  },
  {
   "cell_type": "code",
   "execution_count": 5,
   "id": "8b46baa0",
   "metadata": {},
   "outputs": [],
   "source": [
    "val_datagen = ImageDataGenerator(rescale=1./255)"
   ]
  },
  {
   "cell_type": "markdown",
   "id": "c5f32f66",
   "metadata": {},
   "source": [
    "### 6. Creating training data batches."
   ]
  },
  {
   "cell_type": "code",
   "execution_count": 6,
   "id": "ec71cf88",
   "metadata": {},
   "outputs": [
    {
     "name": "stdout",
     "output_type": "stream",
     "text": [
      "Found 3410 images belonging to 62 classes.\n"
     ]
    }
   ],
   "source": [
    "train_generator = train_datagen.flow_from_directory(\n",
    "    base_path,\n",
    "    target_size=(224, 224),\n",
    "    batch_size=32,\n",
    "    class_mode='categorical',\n",
    "    subset='training'\n",
    ")"
   ]
  },
  {
   "cell_type": "markdown",
   "id": "bda7ad99",
   "metadata": {},
   "source": [
    "### 7. Creating validation data batches."
   ]
  },
  {
   "cell_type": "code",
   "execution_count": 7,
   "id": "f8ef6e80",
   "metadata": {},
   "outputs": [
    {
     "name": "stdout",
     "output_type": "stream",
     "text": [
      "Found 0 images belonging to 62 classes.\n"
     ]
    }
   ],
   "source": [
    "validation_generator = val_datagen.flow_from_directory(\n",
    "    base_path,\n",
    "    target_size=(224, 224),\n",
    "    batch_size=32,\n",
    "    class_mode='categorical',\n",
    "    subset='validation' \n",
    ")"
   ]
  },
  {
   "cell_type": "markdown",
   "id": "e3d85d18",
   "metadata": {},
   "source": [
    "### 8. Finding number of classes and instantiate the ResNet50 model(a pretrained model within tensorflow)."
   ]
  },
  {
   "cell_type": "code",
   "execution_count": 8,
   "id": "64970793",
   "metadata": {},
   "outputs": [
    {
     "name": "stdout",
     "output_type": "stream",
     "text": [
      "WARNING:tensorflow:From D:\\.idea\\anaconda\\Lib\\site-packages\\keras\\src\\backend.py:1398: The name tf.executing_eagerly_outside_functions is deprecated. Please use tf.compat.v1.executing_eagerly_outside_functions instead.\n",
      "\n",
      "WARNING:tensorflow:From D:\\.idea\\anaconda\\Lib\\site-packages\\keras\\src\\layers\\normalization\\batch_normalization.py:979: The name tf.nn.fused_batch_norm is deprecated. Please use tf.compat.v1.nn.fused_batch_norm instead.\n",
      "\n"
     ]
    }
   ],
   "source": [
    "num_classes = len(train_generator.class_indices)\n",
    "\n",
    "base_model = ResNet50(weights='imagenet', include_top=False, input_shape=(224, 224, 3))"
   ]
  },
  {
   "cell_type": "markdown",
   "id": "b086eb35",
   "metadata": {},
   "source": [
    "### 9. Adding 'Dense' layers for classification of the data."
   ]
  },
  {
   "cell_type": "code",
   "execution_count": 9,
   "id": "ea2786e7",
   "metadata": {},
   "outputs": [],
   "source": [
    "model = models.Sequential()\n",
    "model.add(base_model)\n",
    "model.add(layers.GlobalAveragePooling2D())\n",
    "model.add(layers.Dense(256, activation='relu'))\n",
    "model.add(layers.Dropout(0.5))\n",
    "model.add(layers.Dense(num_classes, activation='softmax'))"
   ]
  },
  {
   "cell_type": "markdown",
   "id": "81d44050",
   "metadata": {},
   "source": [
    "### 10. Freezing the base model layers."
   ]
  },
  {
   "cell_type": "code",
   "execution_count": 10,
   "id": "3666dd4f",
   "metadata": {},
   "outputs": [],
   "source": [
    "for layer in base_model.layers:\n",
    "    layer.trainable = False"
   ]
  },
  {
   "cell_type": "markdown",
   "id": "a05e529e",
   "metadata": {},
   "source": [
    "### 11. Compiling the model."
   ]
  },
  {
   "cell_type": "code",
   "execution_count": 11,
   "id": "d61f95e1",
   "metadata": {},
   "outputs": [
    {
     "name": "stdout",
     "output_type": "stream",
     "text": [
      "WARNING:tensorflow:From D:\\.idea\\anaconda\\Lib\\site-packages\\keras\\src\\optimizers\\__init__.py:309: The name tf.train.Optimizer is deprecated. Please use tf.compat.v1.train.Optimizer instead.\n",
      "\n"
     ]
    }
   ],
   "source": [
    "model.compile(optimizer='adam', loss='categorical_crossentropy', metrics=['accuracy'])"
   ]
  },
  {
   "cell_type": "markdown",
   "id": "0fcd64f9",
   "metadata": {},
   "source": [
    "### 12. Training the model."
   ]
  },
  {
   "cell_type": "code",
   "execution_count": 12,
   "id": "9ce7ae62",
   "metadata": {},
   "outputs": [
    {
     "name": "stdout",
     "output_type": "stream",
     "text": [
      "Epoch 1/10\n",
      "WARNING:tensorflow:From D:\\.idea\\anaconda\\Lib\\site-packages\\keras\\src\\utils\\tf_utils.py:492: The name tf.ragged.RaggedTensorValue is deprecated. Please use tf.compat.v1.ragged.RaggedTensorValue instead.\n",
      "\n",
      "WARNING:tensorflow:From D:\\.idea\\anaconda\\Lib\\site-packages\\keras\\src\\engine\\base_layer_utils.py:384: The name tf.executing_eagerly_outside_functions is deprecated. Please use tf.compat.v1.executing_eagerly_outside_functions instead.\n",
      "\n",
      "107/107 [==============================] - 92s 842ms/step - loss: 4.0240 - accuracy: 0.0455\n",
      "Epoch 2/10\n",
      "107/107 [==============================] - 95s 887ms/step - loss: 3.6472 - accuracy: 0.0930\n",
      "Epoch 3/10\n",
      "107/107 [==============================] - 93s 863ms/step - loss: 3.4216 - accuracy: 0.1111\n",
      "Epoch 4/10\n",
      "107/107 [==============================] - 92s 857ms/step - loss: 3.2241 - accuracy: 0.1487\n",
      "Epoch 5/10\n",
      "107/107 [==============================] - 98s 916ms/step - loss: 3.0768 - accuracy: 0.1762\n",
      "Epoch 6/10\n",
      "107/107 [==============================] - 95s 882ms/step - loss: 2.9178 - accuracy: 0.2018\n",
      "Epoch 7/10\n",
      "107/107 [==============================] - 93s 867ms/step - loss: 2.8173 - accuracy: 0.2208\n",
      "Epoch 8/10\n",
      "107/107 [==============================] - 93s 868ms/step - loss: 2.7235 - accuracy: 0.2364\n",
      "Epoch 9/10\n",
      "107/107 [==============================] - 93s 871ms/step - loss: 2.6839 - accuracy: 0.2522\n",
      "Epoch 10/10\n",
      "107/107 [==============================] - 93s 863ms/step - loss: 2.5894 - accuracy: 0.2812\n"
     ]
    },
    {
     "data": {
      "text/plain": [
       "<keras.src.callbacks.History at 0x1a0788dd690>"
      ]
     },
     "execution_count": 12,
     "metadata": {},
     "output_type": "execute_result"
    }
   ],
   "source": [
    "model.fit(train_generator, epochs=10, validation_data=validation_generator)"
   ]
  },
  {
   "cell_type": "markdown",
   "id": "51b8ac38",
   "metadata": {},
   "source": [
    "### 13. Loading the image to be recognized."
   ]
  },
  {
   "cell_type": "code",
   "execution_count": 16,
   "id": "7bc37d63",
   "metadata": {},
   "outputs": [],
   "source": [
    "test_image = load_and_preprocess_image(r\"C:\\Users\\Lenovo\\OneDrive\\Desktop\\dataset\\captcha\\Img\\Q\\img027-013.png\")\n",
    "test_image = test_image.squeeze()  \n",
    "test_image = test_image.reshape((1,) + test_image.shape)"
   ]
  },
  {
   "cell_type": "markdown",
   "id": "6644af91",
   "metadata": {},
   "source": [
    "### 14. Predicting the results."
   ]
  },
  {
   "cell_type": "code",
   "execution_count": 17,
   "id": "a6f80822",
   "metadata": {},
   "outputs": [
    {
     "name": "stdout",
     "output_type": "stream",
     "text": [
      "1/1 [==============================] - 0s 61ms/step\n"
     ]
    }
   ],
   "source": [
    "prediction = model.predict(test_image)\n",
    "predicted_class_index = prediction.argmax(axis=1)\n",
    "class_names = sorted(os.listdir(base_path))\n",
    "predicted_class_name = class_names[predicted_class_index[-1]]"
   ]
  },
  {
   "cell_type": "markdown",
   "id": "4aa35042",
   "metadata": {},
   "source": [
    "### 15. Displaying the results."
   ]
  },
  {
   "cell_type": "code",
   "execution_count": 18,
   "id": "d0ea6f9f",
   "metadata": {},
   "outputs": [
    {
     "data": {
      "image/png": "[encoded data removed]",
      "text/plain": [
       "<Figure size 640x480 with 1 Axes>"
      ]
     },
     "metadata": {},
     "output_type": "display_data"
    },
    {
     "name": "stdout",
     "output_type": "stream",
     "text": [
      "The predicted class is: Q\n"
     ]
    }
   ],
   "source": [
    "def display_image_with_prediction(test_image, predicted_class_name):\n",
    "    test_image_pil = array_to_img(test_image[0])\n",
    "\n",
    "    plt.imshow(test_image_pil)\n",
    "    plt.title('Test Image')\n",
    "    plt.axis('off')\n",
    "    plt.show()\n",
    "\n",
    "    print(f'The predicted class is: {predicted_class_name}')\n",
    "    \n",
    "    \n",
    "#Just an example\n",
    "display_image_with_prediction(test_image, predicted_class_name)\n"
   ]
  }
 ],
 "metadata": {
  "kernelspec": {
   "display_name": "Python 3 (ipykernel)",
   "language": "python",
   "name": "python3"
  },
  "language_info": {
   "codemirror_mode": {
    "name": "ipython",
    "version": 3
   },
   "file_extension": ".py",
   "mimetype": "text/x-python",
   "name": "python",
   "nbconvert_exporter": "python",
   "pygments_lexer": "ipython3",
   "version": "3.11.3"
  }
 },
 "nbformat": 4,
 "nbformat_minor": 5
}
